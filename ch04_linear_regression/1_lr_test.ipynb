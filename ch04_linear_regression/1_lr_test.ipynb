{
 "cells": [
  {
   "cell_type": "code",
   "id": "initial_id",
   "metadata": {
    "collapsed": true,
    "ExecuteTime": {
     "end_time": "2025-09-20T06:12:19.837429Z",
     "start_time": "2025-09-20T06:12:19.833443Z"
    }
   },
   "source": "from sklearn.linear_model import LinearRegression",
   "outputs": [],
   "execution_count": 12
  },
  {
   "metadata": {
    "ExecuteTime": {
     "end_time": "2025-09-20T06:12:19.853471Z",
     "start_time": "2025-09-20T06:12:19.838426Z"
    }
   },
   "cell_type": "code",
   "source": [
    "# 1.定义函数\n",
    "# 自变量，每周学习时长\n",
    "X = [[5], [8], [10], [12], [15], [3], [7], [9], [14], [6]]\n",
    "# 因变量，数学考试成绩\n",
    "y = [55, 65, 70, 75, 85, 50, 60, 72, 80, 58]"
   ],
   "id": "dfba48a5f1f8d1a4",
   "outputs": [],
   "execution_count": 13
  },
  {
   "metadata": {
    "ExecuteTime": {
     "end_time": "2025-09-20T06:12:19.869130Z",
     "start_time": "2025-09-20T06:12:19.854478Z"
    }
   },
   "cell_type": "code",
   "source": [
    "# 2.创建模型: 线性回归\n",
    "model = LinearRegression()"
   ],
   "id": "b03358d3c30855cc",
   "outputs": [],
   "execution_count": 14
  },
  {
   "metadata": {
    "ExecuteTime": {
     "end_time": "2025-09-20T06:12:19.884666Z",
     "start_time": "2025-09-20T06:12:19.870325Z"
    }
   },
   "cell_type": "code",
   "source": [
    "# 3.模型训练\n",
    "model.fit(X, y)"
   ],
   "id": "96da56cce8a98a58",
   "outputs": [
    {
     "data": {
      "text/plain": [
       "LinearRegression()"
      ]
     },
     "execution_count": 15,
     "metadata": {},
     "output_type": "execute_result"
    }
   ],
   "execution_count": 15
  },
  {
   "metadata": {
    "ExecuteTime": {
     "end_time": "2025-09-20T06:12:19.899421Z",
     "start_time": "2025-09-20T06:12:19.885889Z"
    }
   },
   "cell_type": "code",
   "source": [
    "# 4.打印模型参数\n",
    "print(model.coef_)\n",
    "print(model.intercept_)"
   ],
   "id": "ea706c08d07ebafe",
   "outputs": [
    {
     "name": "stdout",
     "output_type": "stream",
     "text": [
      "[2.87070855]\n",
      "41.45069393718042\n"
     ]
    }
   ],
   "execution_count": 16
  },
  {
   "metadata": {
    "ExecuteTime": {
     "end_time": "2025-09-20T06:12:19.914364Z",
     "start_time": "2025-09-20T06:12:19.900771Z"
    }
   },
   "cell_type": "code",
   "source": [
    "# 5.预测\n",
    "x_new = [[11]]\n",
    "y_pred = model.predict(x_new)\n",
    "print(y_pred)"
   ],
   "id": "a1c36132ee4a3750",
   "outputs": [
    {
     "name": "stdout",
     "output_type": "stream",
     "text": [
      "[73.02848795]\n"
     ]
    }
   ],
   "execution_count": 17
  },
  {
   "metadata": {
    "ExecuteTime": {
     "end_time": "2025-09-20T06:12:19.929217Z",
     "start_time": "2025-09-20T06:12:19.915385Z"
    }
   },
   "cell_type": "code",
   "source": [
    "# 6.画图\n",
    "import matplotlib.pyplot as plt\n",
    "import numpy as np"
   ],
   "id": "bb64b455e707d7da",
   "outputs": [],
   "execution_count": 18
  },
  {
   "metadata": {
    "ExecuteTime": {
     "end_time": "2025-09-20T06:12:19.945187Z",
     "start_time": "2025-09-20T06:12:19.930728Z"
    }
   },
   "cell_type": "code",
   "source": [
    "x_line = np.arange(0, 15, 0.1).reshape(-1, 1)\n",
    "y_line = model.predict(x_line)"
   ],
   "id": "41cd7e91cf201a6",
   "outputs": [],
   "execution_count": 19
  },
  {
   "metadata": {
    "ExecuteTime": {
     "end_time": "2025-09-20T06:12:20.055060Z",
     "start_time": "2025-09-20T06:12:19.946184Z"
    }
   },
   "cell_type": "code",
   "source": [
    "plt.scatter(X, y)\n",
    "plt.plot(x_line, y_line, color='red')\n",
    "plt.scatter(x_new, y_pred, color='green')\n",
    "plt.show()"
   ],
   "id": "aa5943b529f2c12f",
   "outputs": [
    {
     "data": {
      "text/plain": [
       "<Figure size 432x288 with 1 Axes>"
      ],
      "image/png": "[encoded data removed]"
     },
     "metadata": {
      "needs_background": "light"
     },
     "output_type": "display_data"
    }
   ],
   "execution_count": 20
  },
  {
   "metadata": {
    "ExecuteTime": {
     "end_time": "2025-09-20T06:14:17.804648Z",
     "start_time": "2025-09-20T06:14:17.789366Z"
    }
   },
   "cell_type": "code",
   "source": [
    "# 用方差和协方差验证数学求解公式\n",
    "x = np.array(X).reshape(-1)\n",
    "cov = np.cov(x, y)\n",
    "print(cov)"
   ],
   "id": "eddce7bf4583aeef",
   "outputs": [
    {
     "name": "stdout",
     "output_type": "stream",
     "text": [
      "[[ 15.21111111  43.66666667]\n",
      " [ 43.66666667 128.66666667]]\n"
     ]
    }
   ],
   "execution_count": 22
  },
  {
   "metadata": {
    "ExecuteTime": {
     "end_time": "2025-09-20T06:46:17.724608Z",
     "start_time": "2025-09-20T06:46:17.719997Z"
    }
   },
   "cell_type": "code",
   "source": [
    "beta1 = cov[0][1] / cov[0][0]\n",
    "print(beta1)"
   ],
   "id": "4e9dc2cebe527801",
   "outputs": [
    {
     "name": "stdout",
     "output_type": "stream",
     "text": [
      "2.8707085463842223\n"
     ]
    }
   ],
   "execution_count": 23
  },
  {
   "metadata": {},
   "cell_type": "code",
   "outputs": [],
   "execution_count": null,
   "source": "",
   "id": "a574660d0d604b8c"
  }
 ],
 "metadata": {
  "kernelspec": {
   "display_name": "Python 3",
   "language": "python",
   "name": "python3"
  },
  "language_info": {
   "codemirror_mode": {
    "name": "ipython",
    "version": 2
   },
   "file_extension": ".py",
   "mimetype": "text/x-python",
   "name": "python",
   "nbconvert_exporter": "python",
   "pygments_lexer": "ipython2",
   "version": "2.7.6"
  }
 },
 "nbformat": 4,
 "nbformat_minor": 5
}
