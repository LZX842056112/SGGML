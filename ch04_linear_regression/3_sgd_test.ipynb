{
 "cells": [
  {
   "cell_type": "code",
   "id": "initial_id",
   "metadata": {
    "collapsed": true,
    "ExecuteTime": {
     "end_time": "2025-09-23T06:20:27.349423Z",
     "start_time": "2025-09-23T06:20:27.340172Z"
    }
   },
   "source": "from sklearn.linear_model import SGDRegressor",
   "outputs": [],
   "execution_count": 81
  },
  {
   "metadata": {
    "ExecuteTime": {
     "end_time": "2025-09-23T06:20:27.364586Z",
     "start_time": "2025-09-23T06:20:27.350691Z"
    }
   },
   "cell_type": "code",
   "source": [
    "# 1.定义数据\n",
    "# 自变量，每周学习时长\n",
    "X = [[5], [8], [10], [12], [15], [3], [7], [9], [14], [6]]\n",
    "# 因变量，数学考试成绩\n",
    "y = [55, 65, 70, 75, 85, 50, 60, 72, 80, 58]"
   ],
   "id": "dc5ffaa1912ca07a",
   "outputs": [],
   "execution_count": 82
  },
  {
   "metadata": {
    "ExecuteTime": {
     "end_time": "2025-09-23T06:20:27.425995Z",
     "start_time": "2025-09-23T06:20:27.365796Z"
    }
   },
   "cell_type": "code",
   "source": [
    "# 2.定义模型\n",
    "model = SGDRegressor(\n",
    "    penalty=None,\n",
    "    loss='squared_loss',  #损失函数\n",
    "    max_iter=10**6,  #最大迭代次数\n",
    "    eta0=1e-5,  #学习率\n",
    "    learning_rate='constant',  #常数学习率\n",
    "    tol=1e-8  #停止迭代策略\n",
    ")\n",
    "\n",
    "#3.模型训练\n",
    "model.fit(X, y)"
   ],
   "id": "613629ed1aa314f6",
   "outputs": [
    {
     "data": {
      "text/plain": [
       "SGDRegressor(eta0=1e-05, learning_rate='constant', max_iter=1000000,\n",
       "             penalty=None, tol=1e-08)"
      ]
     },
     "execution_count": 83,
     "metadata": {},
     "output_type": "execute_result"
    }
   ],
   "execution_count": 83
  },
  {
   "metadata": {
    "ExecuteTime": {
     "end_time": "2025-09-23T06:20:27.441603Z",
     "start_time": "2025-09-23T06:20:27.426991Z"
    }
   },
   "cell_type": "code",
   "source": [
    "print(model.coef_)\n",
    "print(model.intercept_)"
   ],
   "id": "a8ce55de0b4a1673",
   "outputs": [
    {
     "name": "stdout",
     "output_type": "stream",
     "text": [
      "[2.9018388]\n",
      "[41.12739417]\n"
     ]
    }
   ],
   "execution_count": 84
  },
  {
   "metadata": {
    "ExecuteTime": {
     "end_time": "2025-09-23T06:20:27.456971Z",
     "start_time": "2025-09-23T06:20:27.442483Z"
    }
   },
   "cell_type": "code",
   "source": "",
   "id": "3d2cc5f510a9e139",
   "outputs": [],
   "execution_count": 84
  }
 ],
 "metadata": {
  "kernelspec": {
   "display_name": "Python 3",
   "language": "python",
   "name": "python3"
  },
  "language_info": {
   "codemirror_mode": {
    "name": "ipython",
    "version": 2
   },
   "file_extension": ".py",
   "mimetype": "text/x-python",
   "name": "python",
   "nbconvert_exporter": "python",
   "pygments_lexer": "ipython2",
   "version": "2.7.6"
  }
 },
 "nbformat": 4,
 "nbformat_minor": 5
}
