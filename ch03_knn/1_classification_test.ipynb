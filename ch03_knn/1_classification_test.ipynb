{
 "cells": [
  {
   "cell_type": "code",
   "id": "initial_id",
   "metadata": {
    "collapsed": true,
    "ExecuteTime": {
     "end_time": "2025-09-16T08:57:10.931132Z",
     "start_time": "2025-09-16T08:57:10.927704Z"
    }
   },
   "source": [
    "from sklearn.neighbors import KNeighborsClassifier\n",
    "import numpy as np\n",
    "import matplotlib.pyplot as plt"
   ],
   "outputs": [],
   "execution_count": 12
  },
  {
   "metadata": {
    "ExecuteTime": {
     "end_time": "2025-09-16T08:57:10.947055Z",
     "start_time": "2025-09-16T08:57:10.931132Z"
    }
   },
   "cell_type": "code",
   "source": [
    "# 准备数据\n",
    "X = np.array([[2, 1], [3, 1], [1, 4], [2, 6]])\n",
    "y = np.array([0, 1, 0, 1])  # 分类标签"
   ],
   "id": "2fcb212fea597cd0",
   "outputs": [],
   "execution_count": 13
  },
  {
   "metadata": {
    "ExecuteTime": {
     "end_time": "2025-09-16T08:57:10.963004Z",
     "start_time": "2025-09-16T08:57:10.948052Z"
    }
   },
   "cell_type": "code",
   "source": [
    "# 定义KNN分类模型\n",
    "knn = KNeighborsClassifier(n_neighbors=2, weights='distance')\n",
    "\n",
    "# 模型训练\n",
    "knn.fit(X, y)\n",
    "\n",
    "# 预测\n",
    "x = np.array([[4, 9]])\n",
    "x_class = knn.predict(x)\n",
    "print(x_class)"
   ],
   "id": "9071c88009a8e201",
   "outputs": [
    {
     "name": "stdout",
     "output_type": "stream",
     "text": [
      "[1]\n"
     ]
    }
   ],
   "execution_count": 14
  },
  {
   "metadata": {
    "ExecuteTime": {
     "end_time": "2025-09-16T08:57:11.056422Z",
     "start_time": "2025-09-16T08:57:10.964Z"
    }
   },
   "cell_type": "code",
   "source": [
    "# 画图\n",
    "fig, ax = plt.subplots()\n",
    "ax.axis('equal')\n",
    "# 使用布尔索引将两类点分开\n",
    "X1 = X[y == 0]\n",
    "X2 = X[y == 1]\n",
    "# 定义不同的颜色，画两组点\n",
    "colors = ['C0', 'C1']\n",
    "plt.scatter(X1[:, 0], X1[:, 1], c=colors[0])\n",
    "plt.scatter(X2[:, 0], X2[:, 1], c=colors[1])\n",
    "# 新点的颜色\n",
    "x_color = colors[0] if x_class == 0 else colors[1]\n",
    "plt.scatter(x[:, 0], x[:, 1], c=x_color)\n",
    "plt.show()"
   ],
   "id": "f9ed6d9c7e794577",
   "outputs": [
    {
     "data": {
      "text/plain": [
       "<Figure size 432x288 with 1 Axes>"
      ],
      "image/png": "[encoded data removed]"
     },
     "metadata": {
      "needs_background": "light"
     },
     "output_type": "display_data"
    }
   ],
   "execution_count": 15
  },
  {
   "metadata": {
    "ExecuteTime": {
     "end_time": "2025-09-16T08:57:11.071974Z",
     "start_time": "2025-09-16T08:57:11.057447Z"
    }
   },
   "cell_type": "code",
   "source": "",
   "id": "598a32132192e722",
   "outputs": [],
   "execution_count": 15
  }
 ],
 "metadata": {
  "kernelspec": {
   "display_name": "Python 3",
   "language": "python",
   "name": "python3"
  },
  "language_info": {
   "codemirror_mode": {
    "name": "ipython",
    "version": 2
   },
   "file_extension": ".py",
   "mimetype": "text/x-python",
   "name": "python",
   "nbconvert_exporter": "python",
   "pygments_lexer": "ipython2",
   "version": "2.7.6"
  }
 },
 "nbformat": 4,
 "nbformat_minor": 5
}
