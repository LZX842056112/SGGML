{
 "cells": [
  {
   "cell_type": "code",
   "id": "initial_id",
   "metadata": {
    "collapsed": true,
    "ExecuteTime": {
     "end_time": "2025-09-17T13:32:46.486349Z",
     "start_time": "2025-09-17T13:32:45.715260Z"
    }
   },
   "source": "from sklearn.preprocessing import MinMaxScaler",
   "outputs": [],
   "execution_count": 1
  },
  {
   "metadata": {
    "ExecuteTime": {
     "end_time": "2025-09-17T13:33:18.080327Z",
     "start_time": "2025-09-17T13:33:18.070608Z"
    }
   },
   "cell_type": "code",
   "source": "X = [[2, 1], [3, 1], [1, 4], [2, 6]]",
   "id": "671074e064801730",
   "outputs": [],
   "execution_count": 2
  },
  {
   "metadata": {
    "ExecuteTime": {
     "end_time": "2025-09-17T13:35:14.184600Z",
     "start_time": "2025-09-17T13:35:14.168263Z"
    }
   },
   "cell_type": "code",
   "source": [
    "# 定义归一化类的对象\n",
    "scaler = MinMaxScaler(feature_range=(-1, 1))\n",
    "# 将缩放器应用到特征上\n",
    "X_scaled = scaler.fit_transform(X)\n",
    "print(X_scaled)"
   ],
   "id": "99e3e46b3fd903d3",
   "outputs": [
    {
     "name": "stdout",
     "output_type": "stream",
     "text": [
      "[[ 0.  -1. ]\n",
      " [ 1.  -1. ]\n",
      " [-1.   0.2]\n",
      " [ 0.   1. ]]\n"
     ]
    }
   ],
   "execution_count": 4
  },
  {
   "metadata": {
    "ExecuteTime": {
     "end_time": "2025-09-17T13:43:31.490797Z",
     "start_time": "2025-09-17T13:43:31.478578Z"
    }
   },
   "cell_type": "code",
   "source": "from sklearn.preprocessing import StandardScaler",
   "id": "8e3e0b6c10dd611d",
   "outputs": [],
   "execution_count": 5
  },
  {
   "metadata": {
    "ExecuteTime": {
     "end_time": "2025-09-17T13:43:37.377024Z",
     "start_time": "2025-09-17T13:43:37.373219Z"
    }
   },
   "cell_type": "code",
   "source": "print(X)",
   "id": "ee07aa551b7cc1c6",
   "outputs": [
    {
     "name": "stdout",
     "output_type": "stream",
     "text": [
      "[[2, 1], [3, 1], [1, 4], [2, 6]]\n"
     ]
    }
   ],
   "execution_count": 6
  },
  {
   "metadata": {
    "ExecuteTime": {
     "end_time": "2025-09-17T13:44:19.735378Z",
     "start_time": "2025-09-17T13:44:19.727302Z"
    }
   },
   "cell_type": "code",
   "source": [
    "# 标准化\n",
    "scaler = StandardScaler()\n",
    "X_scaled = scaler.fit_transform(X)\n",
    "print(X_scaled)"
   ],
   "id": "7eeefc7b7f47d995",
   "outputs": [
    {
     "name": "stdout",
     "output_type": "stream",
     "text": [
      "[[ 0.         -0.94280904]\n",
      " [ 1.41421356 -0.94280904]\n",
      " [-1.41421356  0.47140452]\n",
      " [ 0.          1.41421356]]\n"
     ]
    }
   ],
   "execution_count": 8
  },
  {
   "metadata": {
    "ExecuteTime": {
     "end_time": "2025-09-17T13:44:52.931070Z",
     "start_time": "2025-09-17T13:44:52.917996Z"
    }
   },
   "cell_type": "code",
   "source": "import numpy as np",
   "id": "9ff8eacdb7dae654",
   "outputs": [],
   "execution_count": 9
  },
  {
   "metadata": {
    "ExecuteTime": {
     "end_time": "2025-09-17T13:45:09.417863Z",
     "start_time": "2025-09-17T13:45:09.405924Z"
    }
   },
   "cell_type": "code",
   "source": [
    "X = np.array(X)\n",
    "print(X)"
   ],
   "id": "2b8724ab56014a9e",
   "outputs": [
    {
     "name": "stdout",
     "output_type": "stream",
     "text": [
      "[[2 1]\n",
      " [3 1]\n",
      " [1 4]\n",
      " [2 6]]\n"
     ]
    }
   ],
   "execution_count": 10
  },
  {
   "metadata": {
    "ExecuteTime": {
     "end_time": "2025-09-17T13:47:28.817907Z",
     "start_time": "2025-09-17T13:47:28.812686Z"
    }
   },
   "cell_type": "code",
   "source": [
    "mean =np.mean(X, axis=0)\n",
    "print(mean)"
   ],
   "id": "41764791e69f4c70",
   "outputs": [
    {
     "name": "stdout",
     "output_type": "stream",
     "text": [
      "[2. 3.]\n"
     ]
    }
   ],
   "execution_count": 13
  },
  {
   "metadata": {
    "ExecuteTime": {
     "end_time": "2025-09-17T13:47:29.019084Z",
     "start_time": "2025-09-17T13:47:29.015168Z"
    }
   },
   "cell_type": "code",
   "source": [
    "std = np.std(X, axis=0)\n",
    "print(std)"
   ],
   "id": "145d4936534032aa",
   "outputs": [
    {
     "name": "stdout",
     "output_type": "stream",
     "text": [
      "[0.70710678 2.12132034]\n"
     ]
    }
   ],
   "execution_count": 14
  },
  {
   "metadata": {
    "ExecuteTime": {
     "end_time": "2025-09-17T13:47:29.703306Z",
     "start_time": "2025-09-17T13:47:29.693116Z"
    }
   },
   "cell_type": "code",
   "source": "print((X - mean) / std)",
   "id": "a0487e0e261872fa",
   "outputs": [
    {
     "name": "stdout",
     "output_type": "stream",
     "text": [
      "[[ 0.         -0.94280904]\n",
      " [ 1.41421356 -0.94280904]\n",
      " [-1.41421356  0.47140452]\n",
      " [ 0.          1.41421356]]\n"
     ]
    }
   ],
   "execution_count": 15
  },
  {
   "metadata": {},
   "cell_type": "code",
   "outputs": [],
   "execution_count": null,
   "source": "",
   "id": "e6ffa15e9aa91a23"
  }
 ],
 "metadata": {
  "kernelspec": {
   "display_name": "Python 3",
   "language": "python",
   "name": "python3"
  },
  "language_info": {
   "codemirror_mode": {
    "name": "ipython",
    "version": 2
   },
   "file_extension": ".py",
   "mimetype": "text/x-python",
   "name": "python",
   "nbconvert_exporter": "python",
   "pygments_lexer": "ipython2",
   "version": "2.7.6"
  }
 },
 "nbformat": 4,
 "nbformat_minor": 5
}
