{
 "cells": [
  {
   "metadata": {
    "ExecuteTime": {
     "end_time": "2025-09-15T08:22:07.293500Z",
     "start_time": "2025-09-15T08:22:06.859211Z"
    }
   },
   "cell_type": "code",
   "source": [
    "import pandas as pd\n",
    "from sklearn.metrics import confusion_matrix\n",
    "import seaborn as sns"
   ],
   "id": "2cf5105b8c944d66",
   "outputs": [],
   "execution_count": 1
  },
  {
   "metadata": {
    "ExecuteTime": {
     "end_time": "2025-09-15T08:23:40.312937Z",
     "start_time": "2025-09-15T08:23:40.299504Z"
    }
   },
   "cell_type": "code",
   "source": [
    "# 定义类别标签\n",
    "labels = ['猫', '狗']\n",
    "# 定义数据(预测值和真实值)\n",
    "y_true = [\"猫\", \"猫\", \"猫\", \"猫\", \"猫\", \"猫\", \"狗\", \"狗\", \"狗\", \"狗\"]\n",
    "y_pred = [\"猫\", \"猫\", \"狗\", \"猫\", \"猫\", \"猫\", \"猫\", \"猫\", \"狗\", \"狗\"]"
   ],
   "id": "87ae654d09e19c20",
   "outputs": [],
   "execution_count": 3
  },
  {
   "metadata": {
    "ExecuteTime": {
     "end_time": "2025-09-15T08:24:51.615800Z",
     "start_time": "2025-09-15T08:24:51.610101Z"
    }
   },
   "cell_type": "code",
   "source": [
    "# 得到混淆矩阵\n",
    "matrix = confusion_matrix(y_true, y_pred, labels=labels)\n",
    "print(matrix)"
   ],
   "id": "f53d7a1f699799",
   "outputs": [
    {
     "name": "stdout",
     "output_type": "stream",
     "text": [
      "[[5 1]\n",
      " [2 2]]\n"
     ]
    }
   ],
   "execution_count": 4
  },
  {
   "metadata": {
    "ExecuteTime": {
     "end_time": "2025-09-15T08:25:37.732639Z",
     "start_time": "2025-09-15T08:25:37.722965Z"
    }
   },
   "cell_type": "code",
   "source": "print(pd.DataFrame(matrix, index=labels, columns=labels))",
   "id": "cdfdd839e3fda21",
   "outputs": [
    {
     "name": "stdout",
     "output_type": "stream",
     "text": [
      "   猫  狗\n",
      "猫  5  1\n",
      "狗  2  2\n"
     ]
    }
   ],
   "execution_count": 5
  },
  {
   "metadata": {
    "ExecuteTime": {
     "end_time": "2025-09-15T08:26:52.210774Z",
     "start_time": "2025-09-15T08:26:52.071330Z"
    }
   },
   "cell_type": "code",
   "source": "sns.heatmap(matrix, annot=True, fmt='d', cmap='Greens')",
   "id": "a81691a5eea2352",
   "outputs": [
    {
     "data": {
      "text/plain": [
       "<Axes: >"
      ]
     },
     "execution_count": 7,
     "metadata": {},
     "output_type": "execute_result"
    },
    {
     "data": {
      "text/plain": [
       "<Figure size 432x288 with 2 Axes>"
      ],
      "image/png": "[encoded data removed]"
     },
     "metadata": {
      "needs_background": "light"
     },
     "output_type": "display_data"
    }
   ],
   "execution_count": 7
  },
  {
   "metadata": {
    "ExecuteTime": {
     "end_time": "2025-09-15T08:29:06.639397Z",
     "start_time": "2025-09-15T08:29:06.624997Z"
    }
   },
   "cell_type": "code",
   "source": [
    "from sklearn.metrics import accuracy_score\n",
    "\n",
    "accuracy = accuracy_score(y_true, y_pred)\n",
    "print(accuracy)"
   ],
   "id": "51be86230a630d68",
   "outputs": [
    {
     "name": "stdout",
     "output_type": "stream",
     "text": [
      "0.7\n"
     ]
    }
   ],
   "execution_count": 8
  },
  {
   "metadata": {
    "ExecuteTime": {
     "end_time": "2025-09-15T08:32:47.114758Z",
     "start_time": "2025-09-15T08:32:47.106399Z"
    }
   },
   "cell_type": "code",
   "source": [
    "from sklearn.metrics import precision_score\n",
    "\n",
    "precision = precision_score(y_true, y_pred, pos_label='猫')\n",
    "print(precision)"
   ],
   "id": "10ed570dd2c05475",
   "outputs": [
    {
     "name": "stdout",
     "output_type": "stream",
     "text": [
      "0.7142857142857143\n"
     ]
    }
   ],
   "execution_count": 10
  },
  {
   "metadata": {
    "ExecuteTime": {
     "end_time": "2025-09-15T08:34:47.134182Z",
     "start_time": "2025-09-15T08:34:47.121868Z"
    }
   },
   "cell_type": "code",
   "source": [
    "from sklearn.metrics import recall_score\n",
    "\n",
    "recall = recall_score(y_true, y_pred, pos_label='猫')\n",
    "print(recall)"
   ],
   "id": "7d2299dae60de81",
   "outputs": [
    {
     "name": "stdout",
     "output_type": "stream",
     "text": [
      "0.8333333333333334\n"
     ]
    }
   ],
   "execution_count": 12
  },
  {
   "metadata": {
    "ExecuteTime": {
     "end_time": "2025-09-15T08:35:53.208218Z",
     "start_time": "2025-09-15T08:35:53.203342Z"
    }
   },
   "cell_type": "code",
   "source": [
    "from sklearn.metrics import f1_score\n",
    "fi = f1_score(y_true, y_pred, pos_label='猫')\n",
    "print(fi)"
   ],
   "id": "dadbd8b1dd18921e",
   "outputs": [
    {
     "name": "stdout",
     "output_type": "stream",
     "text": [
      "0.7692307692307692\n"
     ]
    }
   ],
   "execution_count": 13
  },
  {
   "metadata": {
    "ExecuteTime": {
     "end_time": "2025-09-15T08:38:29.990768Z",
     "start_time": "2025-09-15T08:38:29.975538Z"
    }
   },
   "cell_type": "code",
   "source": [
    "from sklearn.metrics import classification_report\n",
    "report = classification_report(y_true, y_pred, labels=labels,target_names=None)\n",
    "print(report)"
   ],
   "id": "22e35eca25a0faff",
   "outputs": [
    {
     "name": "stdout",
     "output_type": "stream",
     "text": [
      "              precision    recall  f1-score   support\n",
      "\n",
      "           猫       0.71      0.83      0.77         6\n",
      "           狗       0.67      0.50      0.57         4\n",
      "\n",
      "    accuracy                           0.70        10\n",
      "   macro avg       0.69      0.67      0.67        10\n",
      "weighted avg       0.70      0.70      0.69        10\n",
      "\n"
     ]
    }
   ],
   "execution_count": 15
  },
  {
   "metadata": {},
   "cell_type": "code",
   "outputs": [],
   "execution_count": null,
   "source": "",
   "id": "5142d252f73aad48"
  }
 ],
 "metadata": {
  "kernelspec": {
   "display_name": "Python 3",
   "language": "python",
   "name": "python3"
  },
  "language_info": {
   "codemirror_mode": {
    "name": "ipython",
    "version": 2
   },
   "file_extension": ".py",
   "mimetype": "text/x-python",
   "name": "python",
   "nbconvert_exporter": "python",
   "pygments_lexer": "ipython2",
   "version": "2.7.6"
  }
 },
 "nbformat": 4,
 "nbformat_minor": 5
}
