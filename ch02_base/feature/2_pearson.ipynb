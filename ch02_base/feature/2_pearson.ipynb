{
 "cells": [
  {
   "metadata": {
    "ExecuteTime": {
     "end_time": "2025-09-05T04:55:03.582914Z",
     "start_time": "2025-09-05T04:55:02.296795Z"
    }
   },
   "cell_type": "code",
   "source": "import pandas as pd",
   "id": "160bab5296597ff6",
   "outputs": [],
   "execution_count": 1
  },
  {
   "metadata": {
    "ExecuteTime": {
     "end_time": "2025-09-05T05:32:01.892550Z",
     "start_time": "2025-09-05T05:32:01.882322Z"
    }
   },
   "cell_type": "code",
   "source": [
    "# 读取数据\n",
    "advertising = pd.read_csv('../../data/advertising.csv')\n",
    "print(advertising.head())"
   ],
   "id": "4692c6f4cff1bdb7",
   "outputs": [
    {
     "name": "stdout",
     "output_type": "stream",
     "text": [
      "   Unnamed: 0     TV  Radio  Newspaper  Sales\n",
      "0           1  230.1   37.8       69.2   22.1\n",
      "1           2   44.5   39.3       45.1   10.4\n",
      "2           3   17.2   45.9       69.3    9.3\n",
      "3           4  151.5   41.3       58.5   18.5\n",
      "4           5  180.8   10.8       58.4   12.9\n"
     ]
    }
   ],
   "execution_count": 3
  },
  {
   "metadata": {
    "ExecuteTime": {
     "end_time": "2025-09-05T05:32:04.993971Z",
     "start_time": "2025-09-05T05:32:04.971577Z"
    }
   },
   "cell_type": "code",
   "source": "print(advertising.describe())",
   "id": "5409d7893b621f83",
   "outputs": [
    {
     "name": "stdout",
     "output_type": "stream",
     "text": [
      "       Unnamed: 0          TV       Radio   Newspaper       Sales\n",
      "count  200.000000  200.000000  200.000000  200.000000  200.000000\n",
      "mean   100.500000  147.042500   23.264000   30.554000   14.022500\n",
      "std     57.879185   85.854236   14.846809   21.778621    5.217457\n",
      "min      1.000000    0.700000    0.000000    0.300000    1.600000\n",
      "25%     50.750000   74.375000    9.975000   12.750000   10.375000\n",
      "50%    100.500000  149.750000   22.900000   25.750000   12.900000\n",
      "75%    150.250000  218.825000   36.525000   45.100000   17.400000\n",
      "max    200.000000  296.400000   49.600000  114.000000   27.000000\n"
     ]
    }
   ],
   "execution_count": 4
  },
  {
   "metadata": {
    "ExecuteTime": {
     "end_time": "2025-09-05T05:32:06.767511Z",
     "start_time": "2025-09-05T05:32:06.762979Z"
    }
   },
   "cell_type": "code",
   "source": "print(advertising.shape)",
   "id": "42a2f8d60576ef61",
   "outputs": [
    {
     "name": "stdout",
     "output_type": "stream",
     "text": [
      "(200, 5)\n"
     ]
    }
   ],
   "execution_count": 5
  },
  {
   "metadata": {
    "ExecuteTime": {
     "end_time": "2025-09-05T05:46:34.208524Z",
     "start_time": "2025-09-05T05:46:34.166780Z"
    }
   },
   "cell_type": "code",
   "source": [
    "# 数据预处理\n",
    "# 去掉第一列ID\n",
    "advertising.drop(advertising.columns[0], axis=1, inplace=True)\n",
    "# 去掉空值\n",
    "advertising.dropna(inplace=True)\n",
    "# 提取特征和标签(目标值)\n",
    "X = advertising.drop(\"Sales\", axis=1)\n",
    "Y = advertising[\"Sales\"]"
   ],
   "id": "8593bff6b6e4173a",
   "outputs": [],
   "execution_count": 6
  },
  {
   "metadata": {
    "ExecuteTime": {
     "end_time": "2025-09-05T05:46:42.819291Z",
     "start_time": "2025-09-05T05:46:42.810445Z"
    }
   },
   "cell_type": "code",
   "source": [
    "print(X.shape)\n",
    "print(Y.shape)"
   ],
   "id": "857fc5a3c95e8113",
   "outputs": [
    {
     "name": "stdout",
     "output_type": "stream",
     "text": [
      "(200, 3)\n",
      "(200,)\n"
     ]
    }
   ],
   "execution_count": 7
  },
  {
   "metadata": {
    "ExecuteTime": {
     "end_time": "2025-09-05T06:24:06.725935Z",
     "start_time": "2025-09-05T06:24:06.637063Z"
    }
   },
   "cell_type": "code",
   "source": [
    "# 计算皮尔逊相关系数\n",
    "print(X.corrwith(Y, method=\"pearson\"))"
   ],
   "id": "655ea5f35711b6b2",
   "outputs": [
    {
     "name": "stdout",
     "output_type": "stream",
     "text": [
      "TV           0.782224\n",
      "Radio        0.576223\n",
      "Newspaper    0.228299\n",
      "dtype: float64\n"
     ]
    }
   ],
   "execution_count": 9
  },
  {
   "metadata": {
    "ExecuteTime": {
     "end_time": "2025-09-05T06:37:40.863610Z",
     "start_time": "2025-09-05T06:37:40.851961Z"
    }
   },
   "cell_type": "code",
   "source": [
    "corr_matrix = advertising.corr(method=\"pearson\")\n",
    "print(corr_matrix)"
   ],
   "id": "91e973a5cb9eaa3d",
   "outputs": [
    {
     "name": "stdout",
     "output_type": "stream",
     "text": [
      "                 TV     Radio  Newspaper     Sales\n",
      "TV         1.000000  0.054809   0.056648  0.782224\n",
      "Radio      0.054809  1.000000   0.354104  0.576223\n",
      "Newspaper  0.056648  0.354104   1.000000  0.228299\n",
      "Sales      0.782224  0.576223   0.228299  1.000000\n"
     ]
    }
   ],
   "execution_count": 12
  },
  {
   "metadata": {
    "ExecuteTime": {
     "end_time": "2025-09-05T06:37:42.536656Z",
     "start_time": "2025-09-05T06:37:42.530797Z"
    }
   },
   "cell_type": "code",
   "source": [
    "# 将相关系数矩阵画成热力图\n",
    "import seaborn as sns\n",
    "import matplotlib.pyplot as plt"
   ],
   "id": "9fe081ea88d986ed",
   "outputs": [],
   "execution_count": 13
  },
  {
   "metadata": {
    "ExecuteTime": {
     "end_time": "2025-09-05T06:37:43.880554Z",
     "start_time": "2025-09-05T06:37:43.677600Z"
    }
   },
   "cell_type": "code",
   "source": [
    "sns.heatmap(corr_matrix, annot=True, cmap=\"coolwarm\",fmt=\".2f\")\n",
    "plt.title(\"Feature Correlation Matrix\")"
   ],
   "id": "57363b74c6f367a",
   "outputs": [
    {
     "data": {
      "text/plain": [
       "Text(0.5, 1.0, 'Feature Correlation Matrix')"
      ]
     },
     "execution_count": 14,
     "metadata": {},
     "output_type": "execute_result"
    },
    {
     "data": {
      "text/plain": [
       "<Figure size 432x288 with 2 Axes>"
      ],
      "image/png": "[encoded data removed]"
     },
     "metadata": {
      "needs_background": "light"
     },
     "output_type": "display_data"
    }
   ],
   "execution_count": 14
  },
  {
   "metadata": {},
   "cell_type": "code",
   "outputs": [],
   "execution_count": null,
   "source": "",
   "id": "651cac4d471a7ea0"
  }
 ],
 "metadata": {
  "kernelspec": {
   "display_name": "Python 3",
   "language": "python",
   "name": "python3"
  },
  "language_info": {
   "codemirror_mode": {
    "name": "ipython",
    "version": 2
   },
   "file_extension": ".py",
   "mimetype": "text/x-python",
   "name": "python",
   "nbconvert_exporter": "python",
   "pygments_lexer": "ipython2",
   "version": "2.7.6"
  }
 },
 "nbformat": 4,
 "nbformat_minor": 5
}
