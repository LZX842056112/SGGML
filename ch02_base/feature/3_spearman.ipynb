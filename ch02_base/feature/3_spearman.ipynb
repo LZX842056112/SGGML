{
 "cells": [
  {
   "cell_type": "code",
   "id": "initial_id",
   "metadata": {
    "collapsed": true,
    "ExecuteTime": {
     "end_time": "2025-09-05T06:48:09.818199Z",
     "start_time": "2025-09-05T06:48:09.808525Z"
    }
   },
   "source": "import pandas as pd",
   "outputs": [],
   "execution_count": 9
  },
  {
   "metadata": {
    "ExecuteTime": {
     "end_time": "2025-09-05T06:48:10.141341Z",
     "start_time": "2025-09-05T06:48:10.135994Z"
    }
   },
   "cell_type": "code",
   "source": [
    "#定义数据\n",
    "X = [[5], [8], [10], [12], [15], [3], [7], [9], [14], [6]]\n",
    "y = [55, 65, 70, 75, 85, 50, 60, 72, 80, 58]"
   ],
   "id": "3d5670a6796f10af",
   "outputs": [],
   "execution_count": 10
  },
  {
   "metadata": {
    "ExecuteTime": {
     "end_time": "2025-09-05T06:48:10.532666Z",
     "start_time": "2025-09-05T06:48:10.515969Z"
    }
   },
   "cell_type": "code",
   "source": [
    "X = pd.DataFrame(X)\n",
    "y = pd.Series(y)\n",
    "\n",
    "print(X.shape)\n",
    "print(y.shape)"
   ],
   "id": "edaeb6606acb5944",
   "outputs": [
    {
     "name": "stdout",
     "output_type": "stream",
     "text": [
      "(10, 1)\n",
      "(10,)\n"
     ]
    }
   ],
   "execution_count": 11
  },
  {
   "metadata": {
    "ExecuteTime": {
     "end_time": "2025-09-05T06:48:10.980677Z",
     "start_time": "2025-09-05T06:48:10.965431Z"
    }
   },
   "cell_type": "code",
   "source": [
    "# 计算斯皮尔曼相关系数\n",
    "print(X.corrwith(y, method='pearson'))"
   ],
   "id": "95b5b22df3d39785",
   "outputs": [
    {
     "name": "stdout",
     "output_type": "stream",
     "text": [
      "0    0.987044\n",
      "dtype: float64\n"
     ]
    }
   ],
   "execution_count": 12
  },
  {
   "metadata": {},
   "cell_type": "code",
   "outputs": [],
   "execution_count": null,
   "source": "",
   "id": "a30207378d5f8d5f"
  }
 ],
 "metadata": {
  "kernelspec": {
   "display_name": "Python 3",
   "language": "python",
   "name": "python3"
  },
  "language_info": {
   "codemirror_mode": {
    "name": "ipython",
    "version": 2
   },
   "file_extension": ".py",
   "mimetype": "text/x-python",
   "name": "python",
   "nbconvert_exporter": "python",
   "pygments_lexer": "ipython2",
   "version": "2.7.6"
  }
 },
 "nbformat": 4,
 "nbformat_minor": 5
}
